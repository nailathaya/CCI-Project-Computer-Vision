{
  "nbformat": 4,
  "nbformat_minor": 0,
  "metadata": {
    "colab": {
      "provenance": [],
      "gpuType": "T4",
      "authorship_tag": "ABX9TyMR53burd2oYH/WP7Jwu5PH",
      "include_colab_link": true
    },
    "kernelspec": {
      "name": "python3",
      "display_name": "Python 3"
    },
    "language_info": {
      "name": "python"
    },
    "accelerator": "GPU"
  },
  "cells": [
    {
      "cell_type": "markdown",
      "metadata": {
        "id": "view-in-github",
        "colab_type": "text"
      },
      "source": [
        "<a href=\"https://colab.research.google.com/github/nailathaya/CCI-Project-Computer-Vision/blob/main/Hard_Hat_(Safety_Helmet)_Detection.ipynb\" target=\"_parent\"><img src=\"https://colab.research.google.com/assets/colab-badge.svg\" alt=\"Open In Colab\"/></a>"
      ]
    },
    {
      "cell_type": "markdown",
      "source": [
        "# Install Requirements.txt dari GitHub"
      ],
      "metadata": {
        "id": "NKIaE-_chB_O"
      }
    },
    {
      "cell_type": "code",
      "source": [
        "# install requirements.txt dari github\n",
        "!pip install -r https://raw.githubusercontent.com/nailathaya/CCI-Project-Computer-Vision/main/requirements.txt"
      ],
      "metadata": {
        "colab": {
          "base_uri": "https://localhost:8080/"
        },
        "id": "AjeSMF03PZvG",
        "outputId": "c4332df4-12d4-408f-ffd6-75cee79894e1"
      },
      "execution_count": null,
      "outputs": [
        {
          "output_type": "stream",
          "name": "stdout",
          "text": [
            "Collecting ultralytics==8.3.167 (from -r https://raw.githubusercontent.com/nailathaya/CCI-Project-Computer-Vision/main/requirements.txt (line 1))\n",
            "  Downloading ultralytics-8.3.167-py3-none-any.whl.metadata (37 kB)\n",
            "Requirement already satisfied: torch==2.6.0 in /usr/local/lib/python3.11/dist-packages (from -r https://raw.githubusercontent.com/nailathaya/CCI-Project-Computer-Vision/main/requirements.txt (line 2)) (2.6.0+cu124)\n",
            "Requirement already satisfied: opencv-python in /usr/local/lib/python3.11/dist-packages (from -r https://raw.githubusercontent.com/nailathaya/CCI-Project-Computer-Vision/main/requirements.txt (line 3)) (4.11.0.86)\n",
            "Requirement already satisfied: numpy in /usr/local/lib/python3.11/dist-packages (from -r https://raw.githubusercontent.com/nailathaya/CCI-Project-Computer-Vision/main/requirements.txt (line 4)) (2.0.2)\n",
            "Requirement already satisfied: matplotlib>=3.3.0 in /usr/local/lib/python3.11/dist-packages (from ultralytics==8.3.167->-r https://raw.githubusercontent.com/nailathaya/CCI-Project-Computer-Vision/main/requirements.txt (line 1)) (3.10.0)\n",
            "Requirement already satisfied: pillow>=7.1.2 in /usr/local/lib/python3.11/dist-packages (from ultralytics==8.3.167->-r https://raw.githubusercontent.com/nailathaya/CCI-Project-Computer-Vision/main/requirements.txt (line 1)) (11.2.1)\n",
            "Requirement already satisfied: pyyaml>=5.3.1 in /usr/local/lib/python3.11/dist-packages (from ultralytics==8.3.167->-r https://raw.githubusercontent.com/nailathaya/CCI-Project-Computer-Vision/main/requirements.txt (line 1)) (6.0.2)\n",
            "Requirement already satisfied: requests>=2.23.0 in /usr/local/lib/python3.11/dist-packages (from ultralytics==8.3.167->-r https://raw.githubusercontent.com/nailathaya/CCI-Project-Computer-Vision/main/requirements.txt (line 1)) (2.32.3)\n",
            "Requirement already satisfied: scipy>=1.4.1 in /usr/local/lib/python3.11/dist-packages (from ultralytics==8.3.167->-r https://raw.githubusercontent.com/nailathaya/CCI-Project-Computer-Vision/main/requirements.txt (line 1)) (1.15.3)\n",
            "Requirement already satisfied: torchvision>=0.9.0 in /usr/local/lib/python3.11/dist-packages (from ultralytics==8.3.167->-r https://raw.githubusercontent.com/nailathaya/CCI-Project-Computer-Vision/main/requirements.txt (line 1)) (0.21.0+cu124)\n",
            "Requirement already satisfied: tqdm>=4.64.0 in /usr/local/lib/python3.11/dist-packages (from ultralytics==8.3.167->-r https://raw.githubusercontent.com/nailathaya/CCI-Project-Computer-Vision/main/requirements.txt (line 1)) (4.67.1)\n",
            "Requirement already satisfied: psutil in /usr/local/lib/python3.11/dist-packages (from ultralytics==8.3.167->-r https://raw.githubusercontent.com/nailathaya/CCI-Project-Computer-Vision/main/requirements.txt (line 1)) (5.9.5)\n",
            "Requirement already satisfied: py-cpuinfo in /usr/local/lib/python3.11/dist-packages (from ultralytics==8.3.167->-r https://raw.githubusercontent.com/nailathaya/CCI-Project-Computer-Vision/main/requirements.txt (line 1)) (9.0.0)\n",
            "Requirement already satisfied: pandas>=1.1.4 in /usr/local/lib/python3.11/dist-packages (from ultralytics==8.3.167->-r https://raw.githubusercontent.com/nailathaya/CCI-Project-Computer-Vision/main/requirements.txt (line 1)) (2.2.2)\n",
            "Collecting ultralytics-thop>=2.0.0 (from ultralytics==8.3.167->-r https://raw.githubusercontent.com/nailathaya/CCI-Project-Computer-Vision/main/requirements.txt (line 1))\n",
            "  Downloading ultralytics_thop-2.0.14-py3-none-any.whl.metadata (9.4 kB)\n",
            "Requirement already satisfied: filelock in /usr/local/lib/python3.11/dist-packages (from torch==2.6.0->-r https://raw.githubusercontent.com/nailathaya/CCI-Project-Computer-Vision/main/requirements.txt (line 2)) (3.18.0)\n",
            "Requirement already satisfied: typing-extensions>=4.10.0 in /usr/local/lib/python3.11/dist-packages (from torch==2.6.0->-r https://raw.githubusercontent.com/nailathaya/CCI-Project-Computer-Vision/main/requirements.txt (line 2)) (4.14.1)\n",
            "Requirement already satisfied: networkx in /usr/local/lib/python3.11/dist-packages (from torch==2.6.0->-r https://raw.githubusercontent.com/nailathaya/CCI-Project-Computer-Vision/main/requirements.txt (line 2)) (3.5)\n",
            "Requirement already satisfied: jinja2 in /usr/local/lib/python3.11/dist-packages (from torch==2.6.0->-r https://raw.githubusercontent.com/nailathaya/CCI-Project-Computer-Vision/main/requirements.txt (line 2)) (3.1.6)\n",
            "Requirement already satisfied: fsspec in /usr/local/lib/python3.11/dist-packages (from torch==2.6.0->-r https://raw.githubusercontent.com/nailathaya/CCI-Project-Computer-Vision/main/requirements.txt (line 2)) (2025.3.2)\n",
            "Collecting nvidia-cuda-nvrtc-cu12==12.4.127 (from torch==2.6.0->-r https://raw.githubusercontent.com/nailathaya/CCI-Project-Computer-Vision/main/requirements.txt (line 2))\n",
            "  Downloading nvidia_cuda_nvrtc_cu12-12.4.127-py3-none-manylinux2014_x86_64.whl.metadata (1.5 kB)\n",
            "Collecting nvidia-cuda-runtime-cu12==12.4.127 (from torch==2.6.0->-r https://raw.githubusercontent.com/nailathaya/CCI-Project-Computer-Vision/main/requirements.txt (line 2))\n",
            "  Downloading nvidia_cuda_runtime_cu12-12.4.127-py3-none-manylinux2014_x86_64.whl.metadata (1.5 kB)\n",
            "Collecting nvidia-cuda-cupti-cu12==12.4.127 (from torch==2.6.0->-r https://raw.githubusercontent.com/nailathaya/CCI-Project-Computer-Vision/main/requirements.txt (line 2))\n",
            "  Downloading nvidia_cuda_cupti_cu12-12.4.127-py3-none-manylinux2014_x86_64.whl.metadata (1.6 kB)\n",
            "Collecting nvidia-cudnn-cu12==9.1.0.70 (from torch==2.6.0->-r https://raw.githubusercontent.com/nailathaya/CCI-Project-Computer-Vision/main/requirements.txt (line 2))\n",
            "  Downloading nvidia_cudnn_cu12-9.1.0.70-py3-none-manylinux2014_x86_64.whl.metadata (1.6 kB)\n",
            "Collecting nvidia-cublas-cu12==12.4.5.8 (from torch==2.6.0->-r https://raw.githubusercontent.com/nailathaya/CCI-Project-Computer-Vision/main/requirements.txt (line 2))\n",
            "  Downloading nvidia_cublas_cu12-12.4.5.8-py3-none-manylinux2014_x86_64.whl.metadata (1.5 kB)\n",
            "Collecting nvidia-cufft-cu12==11.2.1.3 (from torch==2.6.0->-r https://raw.githubusercontent.com/nailathaya/CCI-Project-Computer-Vision/main/requirements.txt (line 2))\n",
            "  Downloading nvidia_cufft_cu12-11.2.1.3-py3-none-manylinux2014_x86_64.whl.metadata (1.5 kB)\n",
            "Collecting nvidia-curand-cu12==10.3.5.147 (from torch==2.6.0->-r https://raw.githubusercontent.com/nailathaya/CCI-Project-Computer-Vision/main/requirements.txt (line 2))\n",
            "  Downloading nvidia_curand_cu12-10.3.5.147-py3-none-manylinux2014_x86_64.whl.metadata (1.5 kB)\n",
            "Collecting nvidia-cusolver-cu12==11.6.1.9 (from torch==2.6.0->-r https://raw.githubusercontent.com/nailathaya/CCI-Project-Computer-Vision/main/requirements.txt (line 2))\n",
            "  Downloading nvidia_cusolver_cu12-11.6.1.9-py3-none-manylinux2014_x86_64.whl.metadata (1.6 kB)\n",
            "Collecting nvidia-cusparse-cu12==12.3.1.170 (from torch==2.6.0->-r https://raw.githubusercontent.com/nailathaya/CCI-Project-Computer-Vision/main/requirements.txt (line 2))\n",
            "  Downloading nvidia_cusparse_cu12-12.3.1.170-py3-none-manylinux2014_x86_64.whl.metadata (1.6 kB)\n",
            "Requirement already satisfied: nvidia-cusparselt-cu12==0.6.2 in /usr/local/lib/python3.11/dist-packages (from torch==2.6.0->-r https://raw.githubusercontent.com/nailathaya/CCI-Project-Computer-Vision/main/requirements.txt (line 2)) (0.6.2)\n",
            "Requirement already satisfied: nvidia-nccl-cu12==2.21.5 in /usr/local/lib/python3.11/dist-packages (from torch==2.6.0->-r https://raw.githubusercontent.com/nailathaya/CCI-Project-Computer-Vision/main/requirements.txt (line 2)) (2.21.5)\n",
            "Requirement already satisfied: nvidia-nvtx-cu12==12.4.127 in /usr/local/lib/python3.11/dist-packages (from torch==2.6.0->-r https://raw.githubusercontent.com/nailathaya/CCI-Project-Computer-Vision/main/requirements.txt (line 2)) (12.4.127)\n",
            "Collecting nvidia-nvjitlink-cu12==12.4.127 (from torch==2.6.0->-r https://raw.githubusercontent.com/nailathaya/CCI-Project-Computer-Vision/main/requirements.txt (line 2))\n",
            "  Downloading nvidia_nvjitlink_cu12-12.4.127-py3-none-manylinux2014_x86_64.whl.metadata (1.5 kB)\n",
            "Requirement already satisfied: triton==3.2.0 in /usr/local/lib/python3.11/dist-packages (from torch==2.6.0->-r https://raw.githubusercontent.com/nailathaya/CCI-Project-Computer-Vision/main/requirements.txt (line 2)) (3.2.0)\n",
            "Requirement already satisfied: sympy==1.13.1 in /usr/local/lib/python3.11/dist-packages (from torch==2.6.0->-r https://raw.githubusercontent.com/nailathaya/CCI-Project-Computer-Vision/main/requirements.txt (line 2)) (1.13.1)\n",
            "Requirement already satisfied: mpmath<1.4,>=1.1.0 in /usr/local/lib/python3.11/dist-packages (from sympy==1.13.1->torch==2.6.0->-r https://raw.githubusercontent.com/nailathaya/CCI-Project-Computer-Vision/main/requirements.txt (line 2)) (1.3.0)\n",
            "Requirement already satisfied: contourpy>=1.0.1 in /usr/local/lib/python3.11/dist-packages (from matplotlib>=3.3.0->ultralytics==8.3.167->-r https://raw.githubusercontent.com/nailathaya/CCI-Project-Computer-Vision/main/requirements.txt (line 1)) (1.3.2)\n",
            "Requirement already satisfied: cycler>=0.10 in /usr/local/lib/python3.11/dist-packages (from matplotlib>=3.3.0->ultralytics==8.3.167->-r https://raw.githubusercontent.com/nailathaya/CCI-Project-Computer-Vision/main/requirements.txt (line 1)) (0.12.1)\n",
            "Requirement already satisfied: fonttools>=4.22.0 in /usr/local/lib/python3.11/dist-packages (from matplotlib>=3.3.0->ultralytics==8.3.167->-r https://raw.githubusercontent.com/nailathaya/CCI-Project-Computer-Vision/main/requirements.txt (line 1)) (4.58.5)\n",
            "Requirement already satisfied: kiwisolver>=1.3.1 in /usr/local/lib/python3.11/dist-packages (from matplotlib>=3.3.0->ultralytics==8.3.167->-r https://raw.githubusercontent.com/nailathaya/CCI-Project-Computer-Vision/main/requirements.txt (line 1)) (1.4.8)\n",
            "Requirement already satisfied: packaging>=20.0 in /usr/local/lib/python3.11/dist-packages (from matplotlib>=3.3.0->ultralytics==8.3.167->-r https://raw.githubusercontent.com/nailathaya/CCI-Project-Computer-Vision/main/requirements.txt (line 1)) (25.0)\n",
            "Requirement already satisfied: pyparsing>=2.3.1 in /usr/local/lib/python3.11/dist-packages (from matplotlib>=3.3.0->ultralytics==8.3.167->-r https://raw.githubusercontent.com/nailathaya/CCI-Project-Computer-Vision/main/requirements.txt (line 1)) (3.2.3)\n",
            "Requirement already satisfied: python-dateutil>=2.7 in /usr/local/lib/python3.11/dist-packages (from matplotlib>=3.3.0->ultralytics==8.3.167->-r https://raw.githubusercontent.com/nailathaya/CCI-Project-Computer-Vision/main/requirements.txt (line 1)) (2.9.0.post0)\n",
            "Requirement already satisfied: pytz>=2020.1 in /usr/local/lib/python3.11/dist-packages (from pandas>=1.1.4->ultralytics==8.3.167->-r https://raw.githubusercontent.com/nailathaya/CCI-Project-Computer-Vision/main/requirements.txt (line 1)) (2025.2)\n",
            "Requirement already satisfied: tzdata>=2022.7 in /usr/local/lib/python3.11/dist-packages (from pandas>=1.1.4->ultralytics==8.3.167->-r https://raw.githubusercontent.com/nailathaya/CCI-Project-Computer-Vision/main/requirements.txt (line 1)) (2025.2)\n",
            "Requirement already satisfied: charset-normalizer<4,>=2 in /usr/local/lib/python3.11/dist-packages (from requests>=2.23.0->ultralytics==8.3.167->-r https://raw.githubusercontent.com/nailathaya/CCI-Project-Computer-Vision/main/requirements.txt (line 1)) (3.4.2)\n",
            "Requirement already satisfied: idna<4,>=2.5 in /usr/local/lib/python3.11/dist-packages (from requests>=2.23.0->ultralytics==8.3.167->-r https://raw.githubusercontent.com/nailathaya/CCI-Project-Computer-Vision/main/requirements.txt (line 1)) (3.10)\n",
            "Requirement already satisfied: urllib3<3,>=1.21.1 in /usr/local/lib/python3.11/dist-packages (from requests>=2.23.0->ultralytics==8.3.167->-r https://raw.githubusercontent.com/nailathaya/CCI-Project-Computer-Vision/main/requirements.txt (line 1)) (2.4.0)\n",
            "Requirement already satisfied: certifi>=2017.4.17 in /usr/local/lib/python3.11/dist-packages (from requests>=2.23.0->ultralytics==8.3.167->-r https://raw.githubusercontent.com/nailathaya/CCI-Project-Computer-Vision/main/requirements.txt (line 1)) (2025.7.14)\n",
            "Requirement already satisfied: MarkupSafe>=2.0 in /usr/local/lib/python3.11/dist-packages (from jinja2->torch==2.6.0->-r https://raw.githubusercontent.com/nailathaya/CCI-Project-Computer-Vision/main/requirements.txt (line 2)) (3.0.2)\n",
            "Requirement already satisfied: six>=1.5 in /usr/local/lib/python3.11/dist-packages (from python-dateutil>=2.7->matplotlib>=3.3.0->ultralytics==8.3.167->-r https://raw.githubusercontent.com/nailathaya/CCI-Project-Computer-Vision/main/requirements.txt (line 1)) (1.17.0)\n",
            "Downloading ultralytics-8.3.167-py3-none-any.whl (1.0 MB)\n",
            "\u001b[2K   \u001b[90m━━━━━━━━━━━━━━━━━━━━━━━━━━━━━━━━━━━━━━━━\u001b[0m \u001b[32m1.0/1.0 MB\u001b[0m \u001b[31m22.9 MB/s\u001b[0m eta \u001b[36m0:00:00\u001b[0m\n",
            "\u001b[?25hDownloading nvidia_cublas_cu12-12.4.5.8-py3-none-manylinux2014_x86_64.whl (363.4 MB)\n",
            "\u001b[2K   \u001b[90m━━━━━━━━━━━━━━━━━━━━━━━━━━━━━━━━━━━━━━━━\u001b[0m \u001b[32m363.4/363.4 MB\u001b[0m \u001b[31m4.6 MB/s\u001b[0m eta \u001b[36m0:00:00\u001b[0m\n",
            "\u001b[?25hDownloading nvidia_cuda_cupti_cu12-12.4.127-py3-none-manylinux2014_x86_64.whl (13.8 MB)\n",
            "\u001b[2K   \u001b[90m━━━━━━━━━━━━━━━━━━━━━━━━━━━━━━━━━━━━━━━━\u001b[0m \u001b[32m13.8/13.8 MB\u001b[0m \u001b[31m99.0 MB/s\u001b[0m eta \u001b[36m0:00:00\u001b[0m\n",
            "\u001b[?25hDownloading nvidia_cuda_nvrtc_cu12-12.4.127-py3-none-manylinux2014_x86_64.whl (24.6 MB)\n",
            "\u001b[2K   \u001b[90m━━━━━━━━━━━━━━━━━━━━━━━━━━━━━━━━━━━━━━━━\u001b[0m \u001b[32m24.6/24.6 MB\u001b[0m \u001b[31m86.7 MB/s\u001b[0m eta \u001b[36m0:00:00\u001b[0m\n",
            "\u001b[?25hDownloading nvidia_cuda_runtime_cu12-12.4.127-py3-none-manylinux2014_x86_64.whl (883 kB)\n",
            "\u001b[2K   \u001b[90m━━━━━━━━━━━━━━━━━━━━━━━━━━━━━━━━━━━━━━━━\u001b[0m \u001b[32m883.7/883.7 kB\u001b[0m \u001b[31m54.4 MB/s\u001b[0m eta \u001b[36m0:00:00\u001b[0m\n",
            "\u001b[?25hDownloading nvidia_cudnn_cu12-9.1.0.70-py3-none-manylinux2014_x86_64.whl (664.8 MB)\n",
            "\u001b[2K   \u001b[90m━━━━━━━━━━━━━━━━━━━━━━━━━━━━━━━━━━━━━━━\u001b[0m \u001b[32m664.8/664.8 MB\u001b[0m \u001b[31m842.1 kB/s\u001b[0m eta \u001b[36m0:00:00\u001b[0m\n",
            "\u001b[?25hDownloading nvidia_cufft_cu12-11.2.1.3-py3-none-manylinux2014_x86_64.whl (211.5 MB)\n",
            "\u001b[2K   \u001b[90m━━━━━━━━━━━━━━━━━━━━━━━━━━━━━━━━━━━━━━━━\u001b[0m \u001b[32m211.5/211.5 MB\u001b[0m \u001b[31m6.5 MB/s\u001b[0m eta \u001b[36m0:00:00\u001b[0m\n",
            "\u001b[?25hDownloading nvidia_curand_cu12-10.3.5.147-py3-none-manylinux2014_x86_64.whl (56.3 MB)\n",
            "\u001b[2K   \u001b[90m━━━━━━━━━━━━━━━━━━━━━━━━━━━━━━━━━━━━━━━━\u001b[0m \u001b[32m56.3/56.3 MB\u001b[0m \u001b[31m13.0 MB/s\u001b[0m eta \u001b[36m0:00:00\u001b[0m\n",
            "\u001b[?25hDownloading nvidia_cusolver_cu12-11.6.1.9-py3-none-manylinux2014_x86_64.whl (127.9 MB)\n",
            "\u001b[2K   \u001b[90m━━━━━━━━━━━━━━━━━━━━━━━━━━━━━━━━━━━━━━━━\u001b[0m \u001b[32m127.9/127.9 MB\u001b[0m \u001b[31m7.5 MB/s\u001b[0m eta \u001b[36m0:00:00\u001b[0m\n",
            "\u001b[?25hDownloading nvidia_cusparse_cu12-12.3.1.170-py3-none-manylinux2014_x86_64.whl (207.5 MB)\n",
            "\u001b[2K   \u001b[90m━━━━━━━━━━━━━━━━━━━━━━━━━━━━━━━━━━━━━━━━\u001b[0m \u001b[32m207.5/207.5 MB\u001b[0m \u001b[31m5.5 MB/s\u001b[0m eta \u001b[36m0:00:00\u001b[0m\n",
            "\u001b[?25hDownloading nvidia_nvjitlink_cu12-12.4.127-py3-none-manylinux2014_x86_64.whl (21.1 MB)\n",
            "\u001b[2K   \u001b[90m━━━━━━━━━━━━━━━━━━━━━━━━━━━━━━━━━━━━━━━━\u001b[0m \u001b[32m21.1/21.1 MB\u001b[0m \u001b[31m99.4 MB/s\u001b[0m eta \u001b[36m0:00:00\u001b[0m\n",
            "\u001b[?25hDownloading ultralytics_thop-2.0.14-py3-none-any.whl (26 kB)\n",
            "Installing collected packages: nvidia-nvjitlink-cu12, nvidia-curand-cu12, nvidia-cufft-cu12, nvidia-cuda-runtime-cu12, nvidia-cuda-nvrtc-cu12, nvidia-cuda-cupti-cu12, nvidia-cublas-cu12, nvidia-cusparse-cu12, nvidia-cudnn-cu12, nvidia-cusolver-cu12, ultralytics-thop, ultralytics\n",
            "  Attempting uninstall: nvidia-nvjitlink-cu12\n",
            "    Found existing installation: nvidia-nvjitlink-cu12 12.5.82\n",
            "    Uninstalling nvidia-nvjitlink-cu12-12.5.82:\n",
            "      Successfully uninstalled nvidia-nvjitlink-cu12-12.5.82\n",
            "  Attempting uninstall: nvidia-curand-cu12\n",
            "    Found existing installation: nvidia-curand-cu12 10.3.6.82\n",
            "    Uninstalling nvidia-curand-cu12-10.3.6.82:\n",
            "      Successfully uninstalled nvidia-curand-cu12-10.3.6.82\n",
            "  Attempting uninstall: nvidia-cufft-cu12\n",
            "    Found existing installation: nvidia-cufft-cu12 11.2.3.61\n",
            "    Uninstalling nvidia-cufft-cu12-11.2.3.61:\n",
            "      Successfully uninstalled nvidia-cufft-cu12-11.2.3.61\n",
            "  Attempting uninstall: nvidia-cuda-runtime-cu12\n",
            "    Found existing installation: nvidia-cuda-runtime-cu12 12.5.82\n",
            "    Uninstalling nvidia-cuda-runtime-cu12-12.5.82:\n",
            "      Successfully uninstalled nvidia-cuda-runtime-cu12-12.5.82\n",
            "  Attempting uninstall: nvidia-cuda-nvrtc-cu12\n",
            "    Found existing installation: nvidia-cuda-nvrtc-cu12 12.5.82\n",
            "    Uninstalling nvidia-cuda-nvrtc-cu12-12.5.82:\n",
            "      Successfully uninstalled nvidia-cuda-nvrtc-cu12-12.5.82\n",
            "  Attempting uninstall: nvidia-cuda-cupti-cu12\n",
            "    Found existing installation: nvidia-cuda-cupti-cu12 12.5.82\n",
            "    Uninstalling nvidia-cuda-cupti-cu12-12.5.82:\n",
            "      Successfully uninstalled nvidia-cuda-cupti-cu12-12.5.82\n",
            "  Attempting uninstall: nvidia-cublas-cu12\n",
            "    Found existing installation: nvidia-cublas-cu12 12.5.3.2\n",
            "    Uninstalling nvidia-cublas-cu12-12.5.3.2:\n",
            "      Successfully uninstalled nvidia-cublas-cu12-12.5.3.2\n",
            "  Attempting uninstall: nvidia-cusparse-cu12\n",
            "    Found existing installation: nvidia-cusparse-cu12 12.5.1.3\n",
            "    Uninstalling nvidia-cusparse-cu12-12.5.1.3:\n",
            "      Successfully uninstalled nvidia-cusparse-cu12-12.5.1.3\n",
            "  Attempting uninstall: nvidia-cudnn-cu12\n",
            "    Found existing installation: nvidia-cudnn-cu12 9.3.0.75\n",
            "    Uninstalling nvidia-cudnn-cu12-9.3.0.75:\n",
            "      Successfully uninstalled nvidia-cudnn-cu12-9.3.0.75\n",
            "  Attempting uninstall: nvidia-cusolver-cu12\n",
            "    Found existing installation: nvidia-cusolver-cu12 11.6.3.83\n",
            "    Uninstalling nvidia-cusolver-cu12-11.6.3.83:\n",
            "      Successfully uninstalled nvidia-cusolver-cu12-11.6.3.83\n",
            "Successfully installed nvidia-cublas-cu12-12.4.5.8 nvidia-cuda-cupti-cu12-12.4.127 nvidia-cuda-nvrtc-cu12-12.4.127 nvidia-cuda-runtime-cu12-12.4.127 nvidia-cudnn-cu12-9.1.0.70 nvidia-cufft-cu12-11.2.1.3 nvidia-curand-cu12-10.3.5.147 nvidia-cusolver-cu12-11.6.1.9 nvidia-cusparse-cu12-12.3.1.170 nvidia-nvjitlink-cu12-12.4.127 ultralytics-8.3.167 ultralytics-thop-2.0.14\n"
          ]
        }
      ]
    },
    {
      "cell_type": "markdown",
      "source": [
        "# Load Dataset"
      ],
      "metadata": {
        "id": "FYtFIHV2hIjm"
      }
    },
    {
      "cell_type": "code",
      "execution_count": null,
      "metadata": {
        "colab": {
          "base_uri": "https://localhost:8080/"
        },
        "id": "BgSZKo2eElpC",
        "outputId": "cb20a9d5-c1fc-4791-e9e8-9c375b424c64"
      },
      "outputs": [
        {
          "output_type": "stream",
          "name": "stdout",
          "text": [
            "Path to dataset files: /kaggle/input/hard-hat-detection\n"
          ]
        }
      ],
      "source": [
        "import kagglehub\n",
        "\n",
        "# Download latest version\n",
        "path = kagglehub.dataset_download(\"andrewmvd/hard-hat-detection\")\n",
        "\n",
        "print(\"Path to dataset files:\", path)"
      ]
    },
    {
      "cell_type": "markdown",
      "source": [
        "Classes:\n",
        "\n",
        "- Helmet\n",
        "- Person\n",
        "- Head"
      ],
      "metadata": {
        "id": "9wzOEfp9HVHA"
      }
    },
    {
      "cell_type": "markdown",
      "source": [
        "# Konversi Format Dataset"
      ],
      "metadata": {
        "id": "lQ6rJDOUhORM"
      }
    },
    {
      "cell_type": "markdown",
      "source": [
        "Struktur data awal (dalam format Pascal VOC)\n",
        "\n",
        "![image.png](data:image/png;base64,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)"
      ],
      "metadata": {
        "id": "3HtVF0QFh6jI"
      }
    },
    {
      "cell_type": "markdown",
      "source": [
        "Struktur data setelah konversi (dalam format YOLO)\n",
        "\n",
        "![image.png](data:image/png;base64,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)"
      ],
      "metadata": {
        "id": "vje57HOvho_r"
      }
    },
    {
      "cell_type": "code",
      "source": [
        "import os\n",
        "import random\n",
        "import shutil\n",
        "import xml.etree.ElementTree as ET\n",
        "from tqdm import tqdm"
      ],
      "metadata": {
        "id": "XkprOmiAhXf7"
      },
      "execution_count": null,
      "outputs": []
    },
    {
      "cell_type": "code",
      "source": [
        "# Ubah format dataset jadi YOLO Format, karena dari kaggle formatnya Pascal VOC\n",
        "\n",
        "voc_dir = \"/kaggle/input/hard-hat-detection/annotations\"\n",
        "image_dir = \"/kaggle/input/hard-hat-detection/images\"\n",
        "output_dir = \"/content/hard-hat-detection-yolo-dataset\"\n",
        "\n",
        "class_names = ['helmet', 'head', 'person']\n",
        "class_map = {name: idx for idx, name in enumerate(class_names)}\n",
        "\n",
        "# Buat struktur folder YOLO per split\n",
        "for split in ['train', 'val', 'test']:\n",
        "    os.makedirs(os.path.join(output_dir, split, 'images'), exist_ok=True)\n",
        "    os.makedirs(os.path.join(output_dir, split, 'labels'), exist_ok=True)\n",
        "\n",
        "# === Fungsi konversi dari XML ke YOLO ===\n",
        "def convert_xml_to_yolo(xml_path):\n",
        "    tree = ET.parse(xml_path)\n",
        "    root = tree.getroot()\n",
        "\n",
        "    size = root.find('size')\n",
        "    width = int(size.find('width').text)\n",
        "    height = int(size.find('height').text)\n",
        "\n",
        "    yolo_lines = []\n",
        "    for obj in root.findall('object'):\n",
        "        label = obj.find('name').text.strip()\n",
        "        if label not in class_map:\n",
        "            print(f\"[Warning] Label tidak dikenali: {label}\")\n",
        "            continue\n",
        "        class_id = class_map[label]\n",
        "\n",
        "        bndbox = obj.find('bndbox')\n",
        "        xmin = int(bndbox.find('xmin').text)\n",
        "        ymin = int(bndbox.find('ymin').text)\n",
        "        xmax = int(bndbox.find('xmax').text)\n",
        "        ymax = int(bndbox.find('ymax').text)\n",
        "\n",
        "        x_center = (xmin + xmax) / 2 / width\n",
        "        y_center = (ymin + ymax) / 2 / height\n",
        "        box_width = (xmax - xmin) / width\n",
        "        box_height = (ymax - ymin) / height\n",
        "\n",
        "        yolo_lines.append(f\"{class_id} {x_center:.6f} {y_center:.6f} {box_width:.6f} {box_height:.6f}\")\n",
        "\n",
        "    return yolo_lines\n",
        "\n",
        "# === Kumpulkan pasangan XML + gambar ===\n",
        "xml_files = [f for f in os.listdir(voc_dir) if f.endswith(\".xml\")]\n",
        "pairs = []\n",
        "for xml_file in xml_files:\n",
        "    base = os.path.splitext(xml_file)[0]\n",
        "    img_path = os.path.join(image_dir, base + \".png\")\n",
        "    if os.path.exists(img_path):\n",
        "        pairs.append((xml_file, base + \".png\"))\n",
        "\n",
        "print(f\"Total pasangan XML+image: {len(pairs)}\")\n",
        "\n",
        "# === Split 70/20/10 ===\n",
        "random.seed(42)\n",
        "random.shuffle(pairs)\n",
        "\n",
        "n = len(pairs)\n",
        "n_train = int(n * 0.7)\n",
        "n_val = int(n * 0.2)\n",
        "\n",
        "splits = {\n",
        "    'train': pairs[:n_train],\n",
        "    'val': pairs[n_train:n_train + n_val],\n",
        "    'test': pairs[n_train + n_val:]\n",
        "}\n",
        "\n",
        "# === Proses per split ===\n",
        "for split, items in splits.items():\n",
        "    print(f\"\\nMemproses split {split} ({len(items)} data)...\")\n",
        "    for xml_file, img_file in tqdm(items):\n",
        "        xml_path = os.path.join(voc_dir, xml_file)\n",
        "        img_path = os.path.join(image_dir, img_file)\n",
        "        base_name = os.path.splitext(img_file)[0]\n",
        "\n",
        "        # Konversi anotasi\n",
        "        yolo_lines = convert_xml_to_yolo(xml_path)\n",
        "\n",
        "        # Simpan label\n",
        "        label_path = os.path.join(output_dir, split, 'labels', base_name + \".txt\")\n",
        "        with open(label_path, 'w') as f:\n",
        "            f.write(\"\\n\".join(yolo_lines))\n",
        "\n",
        "        # Salin gambar\n",
        "        dst_img = os.path.join(output_dir, split, 'images', img_file)\n",
        "        shutil.copyfile(img_path, dst_img)\n",
        "\n",
        "print(\"\\n✅ Dataset selesai dikonversi dan dibagi.\")\n",
        "\n",
        "# === Buat file data.yaml ===\n",
        "yaml_path = os.path.join(output_dir, \"data.yaml\")\n",
        "with open(yaml_path, 'w') as f:\n",
        "    f.write(f\"\"\"train: {os.path.join(output_dir, 'train/images')}\n",
        "val: {os.path.join(output_dir, 'val/images')}\n",
        "test: {os.path.join(output_dir, 'test/images')}\n",
        "\n",
        "nc: {len(class_names)}\n",
        "names: {class_names}\n",
        "\"\"\")\n",
        "\n",
        "print(f\"📄 File data.yaml dibuat di: {yaml_path}\")"
      ],
      "metadata": {
        "id": "yJ28GhwtKe7c",
        "colab": {
          "base_uri": "https://localhost:8080/"
        },
        "outputId": "f1e120ca-2a1e-4ee6-d2e3-6f4c595a13ac"
      },
      "execution_count": null,
      "outputs": [
        {
          "output_type": "stream",
          "name": "stdout",
          "text": [
            "Total pasangan XML+image: 5000\n",
            "\n",
            "Memproses split train (3500 data)...\n"
          ]
        },
        {
          "output_type": "stream",
          "name": "stderr",
          "text": [
            "100%|██████████| 3500/3500 [00:33<00:00, 105.75it/s]\n"
          ]
        },
        {
          "output_type": "stream",
          "name": "stdout",
          "text": [
            "\n",
            "Memproses split val (1000 data)...\n"
          ]
        },
        {
          "output_type": "stream",
          "name": "stderr",
          "text": [
            "100%|██████████| 1000/1000 [00:09<00:00, 106.49it/s]\n"
          ]
        },
        {
          "output_type": "stream",
          "name": "stdout",
          "text": [
            "\n",
            "Memproses split test (500 data)...\n"
          ]
        },
        {
          "output_type": "stream",
          "name": "stderr",
          "text": [
            "100%|██████████| 500/500 [00:04<00:00, 102.83it/s]"
          ]
        },
        {
          "output_type": "stream",
          "name": "stdout",
          "text": [
            "\n",
            "✅ Dataset selesai dikonversi dan dibagi.\n",
            "📄 File data.yaml dibuat di: /content/hard-hat-detection-yolo-dataset/data.yaml\n"
          ]
        },
        {
          "output_type": "stream",
          "name": "stderr",
          "text": [
            "\n"
          ]
        }
      ]
    },
    {
      "cell_type": "code",
      "source": [
        "from ultralytics import YOLO\n",
        "\n",
        "model = YOLO(\"yolov10m.pt\")"
      ],
      "metadata": {
        "colab": {
          "base_uri": "https://localhost:8080/"
        },
        "id": "pwqUVHKOP32H",
        "outputId": "b40e3788-6aab-411a-8ce5-babe8439fdf2"
      },
      "execution_count": null,
      "outputs": [
        {
          "output_type": "stream",
          "name": "stdout",
          "text": [
            "Creating new Ultralytics Settings v0.0.6 file ✅ \n",
            "View Ultralytics Settings with 'yolo settings' or at '/root/.config/Ultralytics/settings.json'\n",
            "Update Settings with 'yolo settings key=value', i.e. 'yolo settings runs_dir=path/to/dir'. For help see https://docs.ultralytics.com/quickstart/#ultralytics-settings.\n",
            "Downloading https://github.com/ultralytics/assets/releases/download/v8.3.0/yolov10m.pt to 'yolov10m.pt'...\n"
          ]
        },
        {
          "output_type": "stream",
          "name": "stderr",
          "text": [
            "100%|██████████| 32.1M/32.1M [00:00<00:00, 64.1MB/s]\n"
          ]
        }
      ]
    },
    {
      "cell_type": "code",
      "source": [
        "train_results = model.train(\n",
        "    data=\"/content/hard-hat-detection-yolo-dataset/data.yaml\",\n",
        "    epochs=10,\n",
        "    imgsz=480,\n",
        "    device = 0\n",
        ")"
      ],
      "metadata": {
        "colab": {
          "base_uri": "https://localhost:8080/"
        },
        "id": "-Uf_TJ1-PiRN",
        "outputId": "d6fa1097-4b6a-49c3-9d58-cb1ed046e18d"
      },
      "execution_count": null,
      "outputs": [
        {
          "output_type": "stream",
          "name": "stdout",
          "text": [
            "Ultralytics 8.3.167 🚀 Python-3.11.13 torch-2.6.0+cu124 CUDA:0 (Tesla T4, 15095MiB)\n",
            "\u001b[34m\u001b[1mengine/trainer: \u001b[0magnostic_nms=False, amp=True, augment=False, auto_augment=randaugment, batch=16, bgr=0.0, box=7.5, cache=False, cfg=None, classes=None, close_mosaic=10, cls=0.5, conf=None, copy_paste=0.0, copy_paste_mode=flip, cos_lr=False, cutmix=0.0, data=/content/hard-hat-detection-yolo-dataset/data.yaml, degrees=0.0, deterministic=True, device=0, dfl=1.5, dnn=False, dropout=0.0, dynamic=False, embed=None, epochs=10, erasing=0.4, exist_ok=False, fliplr=0.5, flipud=0.0, format=torchscript, fraction=1.0, freeze=None, half=False, hsv_h=0.015, hsv_s=0.7, hsv_v=0.4, imgsz=480, int8=False, iou=0.7, keras=False, kobj=1.0, line_width=None, lr0=0.01, lrf=0.01, mask_ratio=4, max_det=300, mixup=0.0, mode=train, model=yolov10m.pt, momentum=0.937, mosaic=1.0, multi_scale=False, name=train, nbs=64, nms=False, opset=None, optimize=False, optimizer=auto, overlap_mask=True, patience=100, perspective=0.0, plots=True, pose=12.0, pretrained=True, profile=False, project=None, rect=False, resume=False, retina_masks=False, save=True, save_conf=False, save_crop=False, save_dir=runs/detect/train, save_frames=False, save_json=False, save_period=-1, save_txt=False, scale=0.5, seed=0, shear=0.0, show=False, show_boxes=True, show_conf=True, show_labels=True, simplify=True, single_cls=False, source=None, split=val, stream_buffer=False, task=detect, time=None, tracker=botsort.yaml, translate=0.1, val=True, verbose=True, vid_stride=1, visualize=False, warmup_bias_lr=0.1, warmup_epochs=3.0, warmup_momentum=0.8, weight_decay=0.0005, workers=8, workspace=None\n",
            "Downloading https://ultralytics.com/assets/Arial.ttf to '/root/.config/Ultralytics/Arial.ttf'...\n"
          ]
        },
        {
          "output_type": "stream",
          "name": "stderr",
          "text": [
            "100%|██████████| 755k/755k [00:00<00:00, 36.0MB/s]"
          ]
        },
        {
          "output_type": "stream",
          "name": "stdout",
          "text": [
            "Overriding model.yaml nc=80 with nc=3\n",
            "\n",
            "                   from  n    params  module                                       arguments                     \n",
            "  0                  -1  1      1392  ultralytics.nn.modules.conv.Conv             [3, 48, 3, 2]                 \n",
            "  1                  -1  1     41664  ultralytics.nn.modules.conv.Conv             [48, 96, 3, 2]                \n",
            "  2                  -1  2    111360  ultralytics.nn.modules.block.C2f             [96, 96, 2, True]             \n",
            "  3                  -1  1    166272  ultralytics.nn.modules.conv.Conv             [96, 192, 3, 2]               \n",
            "  4                  -1  4    813312  ultralytics.nn.modules.block.C2f             [192, 192, 4, True]           \n",
            "  5                  -1  1     78720  ultralytics.nn.modules.block.SCDown          [192, 384, 3, 2]              \n",
            "  6                  -1  4   3248640  ultralytics.nn.modules.block.C2f             [384, 384, 4, True]           \n",
            "  7                  -1  1    228672  ultralytics.nn.modules.block.SCDown          [384, 576, 3, 2]              \n",
            "  8                  -1  2   1689984  ultralytics.nn.modules.block.C2fCIB          [576, 576, 2, True]           \n",
            "  9                  -1  1    831168  ultralytics.nn.modules.block.SPPF            [576, 576, 5]                 \n",
            " 10                  -1  1   1253088  ultralytics.nn.modules.block.PSA             [576, 576]                    \n",
            " 11                  -1  1         0  torch.nn.modules.upsampling.Upsample         [None, 2, 'nearest']          \n",
            " 12             [-1, 6]  1         0  ultralytics.nn.modules.conv.Concat           [1]                           \n",
            " 13                  -1  2   1993728  ultralytics.nn.modules.block.C2f             [960, 384, 2]                 \n"
          ]
        },
        {
          "output_type": "stream",
          "name": "stderr",
          "text": [
            "\n"
          ]
        },
        {
          "output_type": "stream",
          "name": "stdout",
          "text": [
            " 14                  -1  1         0  torch.nn.modules.upsampling.Upsample         [None, 2, 'nearest']          \n",
            " 15             [-1, 4]  1         0  ultralytics.nn.modules.conv.Concat           [1]                           \n",
            " 16                  -1  2    517632  ultralytics.nn.modules.block.C2f             [576, 192, 2]                 \n",
            " 17                  -1  1    332160  ultralytics.nn.modules.conv.Conv             [192, 192, 3, 2]              \n",
            " 18            [-1, 13]  1         0  ultralytics.nn.modules.conv.Concat           [1]                           \n",
            " 19                  -1  2    831744  ultralytics.nn.modules.block.C2fCIB          [576, 384, 2, True]           \n",
            " 20                  -1  1    152448  ultralytics.nn.modules.block.SCDown          [384, 384, 3, 2]              \n",
            " 21            [-1, 10]  1         0  ultralytics.nn.modules.conv.Concat           [1]                           \n",
            " 22                  -1  2   1911168  ultralytics.nn.modules.block.C2fCIB          [960, 576, 2, True]           \n",
            " 23        [16, 19, 22]  1   2284450  ultralytics.nn.modules.head.v10Detect        [3, [192, 384, 576]]          \n",
            "YOLOv10m summary: 288 layers, 16,487,602 parameters, 16,487,586 gradients, 64.0 GFLOPs\n",
            "\n",
            "Transferred 787/799 items from pretrained weights\n",
            "Freezing layer 'model.23.dfl.conv.weight'\n",
            "\u001b[34m\u001b[1mAMP: \u001b[0mrunning Automatic Mixed Precision (AMP) checks...\n",
            "Downloading https://github.com/ultralytics/assets/releases/download/v8.3.0/yolo11n.pt to 'yolo11n.pt'...\n"
          ]
        },
        {
          "output_type": "stream",
          "name": "stderr",
          "text": [
            "100%|██████████| 5.35M/5.35M [00:00<00:00, 160MB/s]\n"
          ]
        },
        {
          "output_type": "stream",
          "name": "stdout",
          "text": [
            "\u001b[34m\u001b[1mAMP: \u001b[0mchecks passed ✅\n",
            "\u001b[34m\u001b[1mtrain: \u001b[0mFast image access ✅ (ping: 0.0±0.0 ms, read: 2026.9±981.0 MB/s, size: 253.1 KB)\n"
          ]
        },
        {
          "output_type": "stream",
          "name": "stderr",
          "text": [
            "\u001b[34m\u001b[1mtrain: \u001b[0mScanning /content/hard-hat-detection-yolo-dataset/train/labels... 3500 images, 0 backgrounds, 0 corrupt: 100%|██████████| 3500/3500 [00:02<00:00, 1278.91it/s]\n"
          ]
        },
        {
          "output_type": "stream",
          "name": "stdout",
          "text": [
            "\u001b[34m\u001b[1mtrain: \u001b[0mNew cache created: /content/hard-hat-detection-yolo-dataset/train/labels.cache\n",
            "\u001b[34m\u001b[1malbumentations: \u001b[0mBlur(p=0.01, blur_limit=(3, 7)), MedianBlur(p=0.01, blur_limit=(3, 7)), ToGray(p=0.01, method='weighted_average', num_output_channels=3), CLAHE(p=0.01, clip_limit=(1.0, 4.0), tile_grid_size=(8, 8))\n",
            "\u001b[34m\u001b[1mval: \u001b[0mFast image access ✅ (ping: 0.0±0.0 ms, read: 1425.7±795.6 MB/s, size: 266.3 KB)\n"
          ]
        },
        {
          "output_type": "stream",
          "name": "stderr",
          "text": [
            "\u001b[34m\u001b[1mval: \u001b[0mScanning /content/hard-hat-detection-yolo-dataset/val/labels... 1000 images, 0 backgrounds, 0 corrupt: 100%|██████████| 1000/1000 [00:02<00:00, 470.93it/s]"
          ]
        },
        {
          "output_type": "stream",
          "name": "stdout",
          "text": [
            "\u001b[34m\u001b[1mval: \u001b[0mNew cache created: /content/hard-hat-detection-yolo-dataset/val/labels.cache\n"
          ]
        },
        {
          "output_type": "stream",
          "name": "stderr",
          "text": [
            "\n"
          ]
        },
        {
          "output_type": "stream",
          "name": "stdout",
          "text": [
            "Plotting labels to runs/detect/train/labels.jpg... \n",
            "\u001b[34m\u001b[1moptimizer:\u001b[0m 'optimizer=auto' found, ignoring 'lr0=0.01' and 'momentum=0.937' and determining best 'optimizer', 'lr0' and 'momentum' automatically... \n",
            "\u001b[34m\u001b[1moptimizer:\u001b[0m AdamW(lr=0.001429, momentum=0.9) with parameter groups 129 weight(decay=0.0), 142 weight(decay=0.0005), 141 bias(decay=0.0)\n",
            "Image sizes 480 train, 480 val\n",
            "Using 2 dataloader workers\n",
            "Logging results to \u001b[1mruns/detect/train\u001b[0m\n",
            "Starting training for 10 epochs...\n",
            "Closing dataloader mosaic\n",
            "\u001b[34m\u001b[1malbumentations: \u001b[0mBlur(p=0.01, blur_limit=(3, 7)), MedianBlur(p=0.01, blur_limit=(3, 7)), ToGray(p=0.01, method='weighted_average', num_output_channels=3), CLAHE(p=0.01, clip_limit=(1.0, 4.0), tile_grid_size=(8, 8))\n",
            "\n",
            "      Epoch    GPU_mem   box_loss   cls_loss   dfl_loss  Instances       Size\n"
          ]
        },
        {
          "output_type": "stream",
          "name": "stderr",
          "text": [
            "       1/10      4.79G      3.135      3.583      2.572         64        480: 100%|██████████| 219/219 [01:31<00:00,  2.40it/s]\n",
            "                 Class     Images  Instances      Box(P          R      mAP50  mAP50-95): 100%|██████████| 32/32 [00:13<00:00,  2.31it/s]\n"
          ]
        },
        {
          "output_type": "stream",
          "name": "stdout",
          "text": [
            "                   all       1000       5190      0.796      0.448       0.49      0.277\n",
            "\n",
            "      Epoch    GPU_mem   box_loss   cls_loss   dfl_loss  Instances       Size\n"
          ]
        },
        {
          "output_type": "stream",
          "name": "stderr",
          "text": [
            "       2/10      5.54G      3.189      2.322      2.609         58        480: 100%|██████████| 219/219 [01:27<00:00,  2.51it/s]\n",
            "                 Class     Images  Instances      Box(P          R      mAP50  mAP50-95): 100%|██████████| 32/32 [00:12<00:00,  2.57it/s]\n"
          ]
        },
        {
          "output_type": "stream",
          "name": "stdout",
          "text": [
            "                   all       1000       5190      0.816      0.404      0.459      0.245\n",
            "\n",
            "      Epoch    GPU_mem   box_loss   cls_loss   dfl_loss  Instances       Size\n"
          ]
        },
        {
          "output_type": "stream",
          "name": "stderr",
          "text": [
            "       3/10      5.61G      3.136      2.159      2.594         52        480: 100%|██████████| 219/219 [01:26<00:00,  2.53it/s]\n",
            "                 Class     Images  Instances      Box(P          R      mAP50  mAP50-95): 100%|██████████| 32/32 [00:12<00:00,  2.47it/s]\n"
          ]
        },
        {
          "output_type": "stream",
          "name": "stdout",
          "text": [
            "                   all       1000       5190      0.896      0.493      0.559      0.334\n",
            "\n",
            "      Epoch    GPU_mem   box_loss   cls_loss   dfl_loss  Instances       Size\n"
          ]
        },
        {
          "output_type": "stream",
          "name": "stderr",
          "text": [
            "       4/10      5.68G      3.023          2      2.525         48        480: 100%|██████████| 219/219 [01:27<00:00,  2.49it/s]\n",
            "                 Class     Images  Instances      Box(P          R      mAP50  mAP50-95): 100%|██████████| 32/32 [00:12<00:00,  2.46it/s]"
          ]
        },
        {
          "output_type": "stream",
          "name": "stdout",
          "text": [
            "                   all       1000       5190      0.879      0.504      0.554      0.332\n"
          ]
        },
        {
          "output_type": "stream",
          "name": "stderr",
          "text": [
            "\n"
          ]
        },
        {
          "output_type": "stream",
          "name": "stdout",
          "text": [
            "\n",
            "      Epoch    GPU_mem   box_loss   cls_loss   dfl_loss  Instances       Size\n"
          ]
        },
        {
          "output_type": "stream",
          "name": "stderr",
          "text": [
            "       5/10      5.77G      2.924      1.826      2.462         51        480: 100%|██████████| 219/219 [01:27<00:00,  2.51it/s]\n",
            "                 Class     Images  Instances      Box(P          R      mAP50  mAP50-95): 100%|██████████| 32/32 [00:12<00:00,  2.56it/s]\n"
          ]
        },
        {
          "output_type": "stream",
          "name": "stdout",
          "text": [
            "                   all       1000       5190      0.915       0.52      0.583      0.357\n",
            "\n",
            "      Epoch    GPU_mem   box_loss   cls_loss   dfl_loss  Instances       Size\n"
          ]
        },
        {
          "output_type": "stream",
          "name": "stderr",
          "text": [
            "       6/10      5.85G      2.848      1.689      2.426         40        480: 100%|██████████| 219/219 [01:26<00:00,  2.53it/s]\n",
            "                 Class     Images  Instances      Box(P          R      mAP50  mAP50-95): 100%|██████████| 32/32 [00:13<00:00,  2.45it/s]"
          ]
        },
        {
          "output_type": "stream",
          "name": "stdout",
          "text": [
            "                   all       1000       5190      0.931      0.531      0.594      0.361\n"
          ]
        },
        {
          "output_type": "stream",
          "name": "stderr",
          "text": [
            "\n"
          ]
        },
        {
          "output_type": "stream",
          "name": "stdout",
          "text": [
            "\n",
            "      Epoch    GPU_mem   box_loss   cls_loss   dfl_loss  Instances       Size\n"
          ]
        },
        {
          "output_type": "stream",
          "name": "stderr",
          "text": [
            "       7/10      5.93G      2.764      1.592      2.376         39        480: 100%|██████████| 219/219 [01:26<00:00,  2.52it/s]\n",
            "                 Class     Images  Instances      Box(P          R      mAP50  mAP50-95): 100%|██████████| 32/32 [00:12<00:00,  2.51it/s]\n"
          ]
        },
        {
          "output_type": "stream",
          "name": "stdout",
          "text": [
            "                   all       1000       5190      0.934      0.558      0.613      0.383\n",
            "\n",
            "      Epoch    GPU_mem   box_loss   cls_loss   dfl_loss  Instances       Size\n"
          ]
        },
        {
          "output_type": "stream",
          "name": "stderr",
          "text": [
            "       8/10      5.99G      2.715      1.505       2.35         48        480: 100%|██████████| 219/219 [01:26<00:00,  2.55it/s]\n",
            "                 Class     Images  Instances      Box(P          R      mAP50  mAP50-95): 100%|██████████| 32/32 [00:12<00:00,  2.55it/s]"
          ]
        },
        {
          "output_type": "stream",
          "name": "stdout",
          "text": [
            "                   all       1000       5190      0.941      0.573      0.621      0.391\n"
          ]
        },
        {
          "output_type": "stream",
          "name": "stderr",
          "text": [
            "\n"
          ]
        },
        {
          "output_type": "stream",
          "name": "stdout",
          "text": [
            "\n",
            "      Epoch    GPU_mem   box_loss   cls_loss   dfl_loss  Instances       Size\n"
          ]
        },
        {
          "output_type": "stream",
          "name": "stderr",
          "text": [
            "       9/10      6.08G      2.663      1.418      2.316         42        480: 100%|██████████| 219/219 [01:26<00:00,  2.53it/s]\n",
            "                 Class     Images  Instances      Box(P          R      mAP50  mAP50-95): 100%|██████████| 32/32 [00:12<00:00,  2.48it/s]\n"
          ]
        },
        {
          "output_type": "stream",
          "name": "stdout",
          "text": [
            "                   all       1000       5190       0.95      0.574      0.625      0.407\n",
            "\n",
            "      Epoch    GPU_mem   box_loss   cls_loss   dfl_loss  Instances       Size\n"
          ]
        },
        {
          "output_type": "stream",
          "name": "stderr",
          "text": [
            "      10/10      6.16G      2.578      1.333      2.294         62        480: 100%|██████████| 219/219 [01:27<00:00,  2.50it/s]\n",
            "                 Class     Images  Instances      Box(P          R      mAP50  mAP50-95): 100%|██████████| 32/32 [00:13<00:00,  2.46it/s]\n"
          ]
        },
        {
          "output_type": "stream",
          "name": "stdout",
          "text": [
            "                   all       1000       5190      0.945      0.578      0.627       0.41\n",
            "\n",
            "10 epochs completed in 0.282 hours.\n",
            "Optimizer stripped from runs/detect/train/weights/last.pt, 33.4MB\n",
            "Optimizer stripped from runs/detect/train/weights/best.pt, 33.4MB\n",
            "\n",
            "Validating runs/detect/train/weights/best.pt...\n",
            "Ultralytics 8.3.167 🚀 Python-3.11.13 torch-2.6.0+cu124 CUDA:0 (Tesla T4, 15095MiB)\n",
            "YOLOv10m summary (fused): 136 layers, 15,314,905 parameters, 0 gradients, 58.9 GFLOPs\n"
          ]
        },
        {
          "output_type": "stream",
          "name": "stderr",
          "text": [
            "                 Class     Images  Instances      Box(P          R      mAP50  mAP50-95): 100%|██████████| 32/32 [00:14<00:00,  2.22it/s]\n"
          ]
        },
        {
          "output_type": "stream",
          "name": "stdout",
          "text": [
            "                   all       1000       5190      0.946      0.578      0.627       0.41\n",
            "                helmet        916       3945      0.926      0.874      0.943      0.616\n",
            "                  head        171       1096      0.911      0.859      0.921      0.606\n",
            "                person         34        149          1          0     0.0173    0.00717\n",
            "Speed: 0.2ms preprocess, 5.6ms inference, 0.0ms loss, 0.3ms postprocess per image\n",
            "Results saved to \u001b[1mruns/detect/train\u001b[0m\n"
          ]
        }
      ]
    },
    {
      "cell_type": "code",
      "source": [],
      "metadata": {
        "id": "9eXsQFO8P6qn"
      },
      "execution_count": null,
      "outputs": []
    }
  ]
}